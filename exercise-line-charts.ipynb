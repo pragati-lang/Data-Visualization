{
 "cells": [
  {
   "cell_type": "markdown",
   "id": "d31ff727",
   "metadata": {
    "papermill": {
     "duration": 0.01879,
     "end_time": "2021-08-08T10:11:42.927455",
     "exception": false,
     "start_time": "2021-08-08T10:11:42.908665",
     "status": "completed"
    },
    "tags": []
   },
   "source": [
    "**This notebook is an exercise in the [Data Visualization](https://www.kaggle.com/learn/data-visualization) course.  You can reference the tutorial at [this link](https://www.kaggle.com/alexisbcook/line-charts).**\n",
    "\n",
    "---\n"
   ]
  },
  {
   "cell_type": "markdown",
   "id": "d1011810",
   "metadata": {
    "papermill": {
     "duration": 0.019353,
     "end_time": "2021-08-08T10:11:42.965489",
     "exception": false,
     "start_time": "2021-08-08T10:11:42.946136",
     "status": "completed"
    },
    "tags": []
   },
   "source": [
    "In this exercise, you will use your new knowledge to propose a solution to a real-world scenario. To succeed, you will need to import data into Python, answer questions using the data, and generate **line charts** to understand patterns in the data.\n",
    "\n",
    "## Scenario\n",
    "\n",
    "You have recently been hired to manage the museums in the City of Los Angeles. Your first project focuses on the four museums pictured in the images below.\n",
    "\n",
    "![ex1_museums](https://i.imgur.com/pFYL8J1.png)\n",
    "\n",
    "You will leverage data from the Los Angeles [Data Portal](https://data.lacity.org/) that tracks monthly visitors to each museum.  \n",
    "\n",
    "![ex1_xlsx](https://i.imgur.com/mGWYlym.png)\n",
    "\n",
    "## Setup\n",
    "\n",
    "Run the next cell to import and configure the Python libraries that you need to complete the exercise."
   ]
  },
  {
   "cell_type": "code",
   "execution_count": 1,
   "id": "4ae40dc3",
   "metadata": {
    "execution": {
     "iopub.execute_input": "2021-08-08T10:11:43.013522Z",
     "iopub.status.busy": "2021-08-08T10:11:43.012890Z",
     "iopub.status.idle": "2021-08-08T10:11:44.016735Z",
     "shell.execute_reply": "2021-08-08T10:11:44.015237Z",
     "shell.execute_reply.started": "2021-08-04T13:29:23.09643Z"
    },
    "papermill": {
     "duration": 1.033259,
     "end_time": "2021-08-08T10:11:44.017028",
     "exception": false,
     "start_time": "2021-08-08T10:11:42.983769",
     "status": "completed"
    },
    "tags": []
   },
   "outputs": [
    {
     "name": "stdout",
     "output_type": "stream",
     "text": [
      "Setup Complete\n"
     ]
    }
   ],
   "source": [
    "import pandas as pd\n",
    "pd.plotting.register_matplotlib_converters()\n",
    "import matplotlib.pyplot as plt\n",
    "%matplotlib inline\n",
    "import seaborn as sns\n",
    "print(\"Setup Complete\")"
   ]
  },
  {
   "cell_type": "markdown",
   "id": "6986a86f",
   "metadata": {
    "papermill": {
     "duration": 0.017857,
     "end_time": "2021-08-08T10:11:44.055484",
     "exception": false,
     "start_time": "2021-08-08T10:11:44.037627",
     "status": "completed"
    },
    "tags": []
   },
   "source": [
    "The questions below will give you feedback on your work. Run the following cell to set up the feedback system."
   ]
  },
  {
   "cell_type": "code",
   "execution_count": 2,
   "id": "f2fff114",
   "metadata": {
    "execution": {
     "iopub.execute_input": "2021-08-08T10:11:44.097357Z",
     "iopub.status.busy": "2021-08-08T10:11:44.096694Z",
     "iopub.status.idle": "2021-08-08T10:11:44.175354Z",
     "shell.execute_reply": "2021-08-08T10:11:44.174820Z",
     "shell.execute_reply.started": "2021-08-04T13:30:03.577768Z"
    },
    "papermill": {
     "duration": 0.101757,
     "end_time": "2021-08-08T10:11:44.175503",
     "exception": false,
     "start_time": "2021-08-08T10:11:44.073746",
     "status": "completed"
    },
    "tags": []
   },
   "outputs": [
    {
     "name": "stdout",
     "output_type": "stream",
     "text": [
      "Setup Complete\n"
     ]
    }
   ],
   "source": [
    "# Set up code checking\n",
    "import os\n",
    "if not os.path.exists(\"../input/museum_visitors.csv\"):\n",
    "    os.symlink(\"../input/data-for-datavis/museum_visitors.csv\", \"../input/museum_visitors.csv\") \n",
    "from learntools.core import binder\n",
    "binder.bind(globals())\n",
    "from learntools.data_viz_to_coder.ex2 import *\n",
    "print(\"Setup Complete\")"
   ]
  },
  {
   "cell_type": "markdown",
   "id": "52aa7a39",
   "metadata": {
    "papermill": {
     "duration": 0.018167,
     "end_time": "2021-08-08T10:11:44.212135",
     "exception": false,
     "start_time": "2021-08-08T10:11:44.193968",
     "status": "completed"
    },
    "tags": []
   },
   "source": [
    "## Step 1: Load the data\n",
    "\n",
    "Your first assignment is to read the LA Museum Visitors data file into `museum_data`.  Note that:\n",
    "- The filepath to the dataset is stored as `museum_filepath`.  Please **do not** change the provided value of the filepath.\n",
    "- The name of the column to use as row labels is `\"Date\"`.  (This can be seen in cell A1 when the file is opened in Excel.)\n",
    "\n",
    "To help with this, you may find it useful to revisit some relevant code from the tutorial, which we have pasted below:\n",
    "\n",
    "```python\n",
    "# Path of the file to read\n",
    "spotify_filepath = \"../input/spotify.csv\"\n",
    "\n",
    "# Read the file into a variable spotify_data\n",
    "spotify_data = pd.read_csv(spotify_filepath, index_col=\"Date\", parse_dates=True)\n",
    "```\n",
    "\n",
    "The code you need to write now looks very similar!"
   ]
  },
  {
   "cell_type": "code",
   "execution_count": 3,
   "id": "8568dbc3",
   "metadata": {
    "execution": {
     "iopub.execute_input": "2021-08-08T10:11:44.253875Z",
     "iopub.status.busy": "2021-08-08T10:11:44.253229Z",
     "iopub.status.idle": "2021-08-08T10:11:44.350514Z",
     "shell.execute_reply": "2021-08-08T10:11:44.348679Z",
     "shell.execute_reply.started": "2021-08-04T13:33:40.176803Z"
    },
    "papermill": {
     "duration": 0.12037,
     "end_time": "2021-08-08T10:11:44.350924",
     "exception": true,
     "start_time": "2021-08-08T10:11:44.230554",
     "status": "failed"
    },
    "tags": []
   },
   "outputs": [
    {
     "ename": "NameError",
     "evalue": "name 'museum_filepath' is not defined",
     "output_type": "error",
     "traceback": [
      "\u001b[0;31m---------------------------------------------------------------------------\u001b[0m",
      "\u001b[0;31mNameError\u001b[0m                                 Traceback (most recent call last)",
      "\u001b[0;32m<ipython-input-3-0dc820f826fe>\u001b[0m in \u001b[0;36m<module>\u001b[0;34m\u001b[0m\n\u001b[1;32m      3\u001b[0m \u001b[0;34m\u001b[0m\u001b[0m\n\u001b[1;32m      4\u001b[0m \u001b[0;31m# Fill in the line below to read the file into a variable museum_data\u001b[0m\u001b[0;34m\u001b[0m\u001b[0;34m\u001b[0m\u001b[0;34m\u001b[0m\u001b[0m\n\u001b[0;32m----> 5\u001b[0;31m \u001b[0mmuseum_data\u001b[0m \u001b[0;34m=\u001b[0m \u001b[0mpd\u001b[0m\u001b[0;34m.\u001b[0m\u001b[0mread_csv\u001b[0m\u001b[0;34m(\u001b[0m\u001b[0mmuseum_filepath\u001b[0m\u001b[0;34m,\u001b[0m \u001b[0mindex_col\u001b[0m\u001b[0;34m=\u001b[0m\u001b[0;34m\"Date\"\u001b[0m\u001b[0;34m,\u001b[0m \u001b[0mparse_dates\u001b[0m\u001b[0;34m=\u001b[0m\u001b[0;32mTrue\u001b[0m\u001b[0;34m)\u001b[0m\u001b[0;34m\u001b[0m\u001b[0;34m\u001b[0m\u001b[0m\n\u001b[0m\u001b[1;32m      6\u001b[0m \u001b[0;34m\u001b[0m\u001b[0m\n\u001b[1;32m      7\u001b[0m \u001b[0;31m# Run the line below with no changes to check that you've loaded the data correctly\u001b[0m\u001b[0;34m\u001b[0m\u001b[0;34m\u001b[0m\u001b[0;34m\u001b[0m\u001b[0m\n",
      "\u001b[0;31mNameError\u001b[0m: name 'museum_filepath' is not defined"
     ]
    }
   ],
   "source": [
    "# Path of the file to read\n",
    "museum_museum_filepath = \"../input/museum_visitors.csv\"\n",
    "\n",
    "# Fill in the line below to read the file into a variable museum_data\n",
    "museum_data = pd.read_csv(museum_filepath, index_col=\"Date\", parse_dates=True)\n",
    "\n",
    "# Run the line below with no changes to check that you've loaded the data correctly\n"
   ]
  },
  {
   "cell_type": "code",
   "execution_count": null,
   "id": "2d9c1e9e",
   "metadata": {
    "execution": {
     "iopub.execute_input": "2021-08-04T13:34:17.027474Z",
     "iopub.status.busy": "2021-08-04T13:34:17.026861Z",
     "iopub.status.idle": "2021-08-04T13:34:17.041491Z",
     "shell.execute_reply": "2021-08-04T13:34:17.040159Z",
     "shell.execute_reply.started": "2021-08-04T13:34:17.027439Z"
    },
    "papermill": {
     "duration": null,
     "end_time": null,
     "exception": null,
     "start_time": null,
     "status": "pending"
    },
    "tags": []
   },
   "outputs": [],
   "source": [
    "# Uncomment the line below to receive a hint\n",
    "step_1.hint()\n",
    "# Uncomment the line below to see the solution\n",
    "step_1.solution()"
   ]
  },
  {
   "cell_type": "markdown",
   "id": "98ab8b4a",
   "metadata": {
    "papermill": {
     "duration": null,
     "end_time": null,
     "exception": null,
     "start_time": null,
     "status": "pending"
    },
    "tags": []
   },
   "source": [
    "## Step 2: Review the data\n",
    "\n",
    "Use a Python command to print the last 5 rows of the data."
   ]
  },
  {
   "cell_type": "code",
   "execution_count": null,
   "id": "f7b4e961",
   "metadata": {
    "execution": {
     "iopub.execute_input": "2021-08-04T13:34:29.628916Z",
     "iopub.status.busy": "2021-08-04T13:34:29.6284Z",
     "iopub.status.idle": "2021-08-04T13:34:29.647785Z",
     "shell.execute_reply": "2021-08-04T13:34:29.646858Z",
     "shell.execute_reply.started": "2021-08-04T13:34:29.628869Z"
    },
    "papermill": {
     "duration": null,
     "end_time": null,
     "exception": null,
     "start_time": null,
     "status": "pending"
    },
    "tags": []
   },
   "outputs": [],
   "source": [
    " #Print the last five rows of the data \n",
    "museum_data.tail()# Your "
   ]
  },
  {
   "cell_type": "code",
   "execution_count": null,
   "id": "ebdcddc9",
   "metadata": {
    "papermill": {
     "duration": null,
     "end_time": null,
     "exception": null,
     "start_time": null,
     "status": "pending"
    },
    "tags": []
   },
   "outputs": [],
   "source": []
  },
  {
   "cell_type": "markdown",
   "id": "07b908c2",
   "metadata": {
    "papermill": {
     "duration": null,
     "end_time": null,
     "exception": null,
     "start_time": null,
     "status": "pending"
    },
    "tags": []
   },
   "source": [
    "The last row (for `2018-11-01`) tracks the number of visitors to each museum in November 2018, the next-to-last row (for `2018-10-01`) tracks the number of visitors to each museum in October 2018, _and so on_.\n",
    "\n",
    "Use the last 5 rows of the data to answer the questions below."
   ]
  },
  {
   "cell_type": "code",
   "execution_count": null,
   "id": "c014448c",
   "metadata": {
    "execution": {
     "iopub.execute_input": "2021-08-04T13:44:30.565754Z",
     "iopub.status.busy": "2021-08-04T13:44:30.565399Z",
     "iopub.status.idle": "2021-08-04T13:44:30.574674Z",
     "shell.execute_reply": "2021-08-04T13:44:30.573702Z",
     "shell.execute_reply.started": "2021-08-04T13:44:30.565724Z"
    },
    "papermill": {
     "duration": null,
     "end_time": null,
     "exception": null,
     "start_time": null,
     "status": "pending"
    },
    "tags": []
   },
   "outputs": [],
   "source": [
    "# Fill in the line below: How many visitors did the Chinese American Museum \n",
    "# receive in July 2018?\n",
    "museum_data.tail()\n",
    "ca_museum_jul18 = 2620\n",
    "# Fill in the line below: In October 2018, how many more visitors did Avila \n",
    "# Adobe receive than the Firehouse Museum?\n",
    "avila_oct18 = 14658\n",
    "\n",
    "# Check your answers\n",
    "step_2.check()"
   ]
  },
  {
   "cell_type": "code",
   "execution_count": null,
   "id": "0d94c32e",
   "metadata": {
    "execution": {
     "iopub.execute_input": "2021-08-04T13:35:50.497338Z",
     "iopub.status.busy": "2021-08-04T13:35:50.496875Z",
     "iopub.status.idle": "2021-08-04T13:35:50.510695Z",
     "shell.execute_reply": "2021-08-04T13:35:50.509589Z",
     "shell.execute_reply.started": "2021-08-04T13:35:50.497296Z"
    },
    "papermill": {
     "duration": null,
     "end_time": null,
     "exception": null,
     "start_time": null,
     "status": "pending"
    },
    "tags": []
   },
   "outputs": [],
   "source": [
    "# Lines below will give you a hint or solution code\n",
    "step_2.hint()\n",
    "step_2.solution()"
   ]
  },
  {
   "cell_type": "markdown",
   "id": "8817fd19",
   "metadata": {
    "papermill": {
     "duration": null,
     "end_time": null,
     "exception": null,
     "start_time": null,
     "status": "pending"
    },
    "tags": []
   },
   "source": [
    "## Step 3: Convince the museum board \n",
    "\n",
    "The Firehouse Museum claims they ran an event in 2014 that brought an incredible number of visitors, and that they should get extra budget to run a similar event again.  The other museums think these types of events aren't that important, and budgets should be split purely based on recent visitors on an average day.  \n",
    "\n",
    "To show the museum board how the event compared to regular traffic at each museum, create a line chart that shows how the number of visitors to each museum evolved over time.  Your figure should have four lines (one for each museum).\n",
    "\n",
    "> **(Optional) Note**: If you have some prior experience with plotting figures in Python, you might be familiar with the `plt.show()` command.  If you decide to use this command, please place it **after** the line of code that checks your answer (in this case, place it after `step_3.check()` below) -- otherwise, the checking code will return an error!"
   ]
  },
  {
   "cell_type": "code",
   "execution_count": null,
   "id": "595dd01e",
   "metadata": {
    "execution": {
     "iopub.execute_input": "2021-08-04T13:42:44.46585Z",
     "iopub.status.busy": "2021-08-04T13:42:44.465516Z",
     "iopub.status.idle": "2021-08-04T13:42:44.780056Z",
     "shell.execute_reply": "2021-08-04T13:42:44.778881Z",
     "shell.execute_reply.started": "2021-08-04T13:42:44.465822Z"
    },
    "papermill": {
     "duration": null,
     "end_time": null,
     "exception": null,
     "start_time": null,
     "status": "pending"
    },
    "tags": []
   },
   "outputs": [],
   "source": [
    "# Line chart showing the number of visitors to each museum over time\n",
    "plt.figure(figsize=(12,6)) # Your code here\n",
    "sns.lineplot(data=museum_data)\n",
    "plt.title(\"Monthly Visitors to Los Angeles City Museums\")\n",
    "# Check your answer\n",
    "step_3.check()"
   ]
  },
  {
   "cell_type": "code",
   "execution_count": null,
   "id": "4e0c747a",
   "metadata": {
    "execution": {
     "iopub.execute_input": "2021-08-04T13:37:29.286713Z",
     "iopub.status.busy": "2021-08-04T13:37:29.286298Z",
     "iopub.status.idle": "2021-08-04T13:37:29.668379Z",
     "shell.execute_reply": "2021-08-04T13:37:29.667278Z",
     "shell.execute_reply.started": "2021-08-04T13:37:29.286675Z"
    },
    "papermill": {
     "duration": null,
     "end_time": null,
     "exception": null,
     "start_time": null,
     "status": "pending"
    },
    "tags": []
   },
   "outputs": [],
   "source": [
    "# Lines below will give you a hint or solution code\n",
    "step_3.hint()\n",
    "step_3.solution_plot()"
   ]
  },
  {
   "cell_type": "markdown",
   "id": "6b53d080",
   "metadata": {
    "papermill": {
     "duration": null,
     "end_time": null,
     "exception": null,
     "start_time": null,
     "status": "pending"
    },
    "tags": []
   },
   "source": [
    "## Step 4: Assess seasonality\n",
    "\n",
    "When meeting with the employees at Avila Adobe, you hear that one major pain point is that the number of museum visitors varies greatly with the seasons, with low seasons (when the employees are perfectly staffed and happy) and also high seasons (when the employees are understaffed and stressed).  You realize that if you can predict these high and low seasons, you can plan ahead to hire some additional seasonal employees to help out with the extra work.\n",
    "\n",
    "#### Part A\n",
    "Create a line chart that shows how the number of visitors to Avila Adobe has evolved over time.  (_If your code returns an error, the first thing that you should check is that you've spelled the name of the column correctly!  You must write the name of the column exactly as it appears in the dataset._)"
   ]
  },
  {
   "cell_type": "code",
   "execution_count": null,
   "id": "2421964e",
   "metadata": {
    "execution": {
     "iopub.execute_input": "2021-08-04T13:41:23.588856Z",
     "iopub.status.busy": "2021-08-04T13:41:23.588473Z",
     "iopub.status.idle": "2021-08-04T13:41:23.797633Z",
     "shell.execute_reply": "2021-08-04T13:41:23.796471Z",
     "shell.execute_reply.started": "2021-08-04T13:41:23.588814Z"
    },
    "papermill": {
     "duration": null,
     "end_time": null,
     "exception": null,
     "start_time": null,
     "status": "pending"
    },
    "tags": []
   },
   "outputs": [],
   "source": [
    "# Line plot showing the number of visitors to Avila Adobe over time\n",
    "____ # Your code here\n",
    "\n",
    "# Set the width and height of the figure\n",
    "plt.figure(figsize=(12,6))\n",
    "plt.title(\"Monthly Visitors to Avila Adobe\")\n",
    "sns.lineplot(data=museum_data['Avila Adobe'])\n",
    "plt.xlabel(\"Date\")\n",
    "# Check your answer\n",
    "step_4.a.check()"
   ]
  },
  {
   "cell_type": "code",
   "execution_count": null,
   "id": "b7a87253",
   "metadata": {
    "execution": {
     "iopub.execute_input": "2021-08-04T13:38:50.816816Z",
     "iopub.status.busy": "2021-08-04T13:38:50.816273Z",
     "iopub.status.idle": "2021-08-04T13:38:51.023831Z",
     "shell.execute_reply": "2021-08-04T13:38:51.022673Z",
     "shell.execute_reply.started": "2021-08-04T13:38:50.816783Z"
    },
    "papermill": {
     "duration": null,
     "end_time": null,
     "exception": null,
     "start_time": null,
     "status": "pending"
    },
    "tags": []
   },
   "outputs": [],
   "source": [
    "# Lines below will give you a hint or solution code\n",
    "step_4.a.hint()\n",
    "step_4.a.solution_plot()"
   ]
  },
  {
   "cell_type": "markdown",
   "id": "fc30605c",
   "metadata": {
    "papermill": {
     "duration": null,
     "end_time": null,
     "exception": null,
     "start_time": null,
     "status": "pending"
    },
    "tags": []
   },
   "source": [
    "#### Part B\n",
    "\n",
    "Does Avila Adobe get more visitors:\n",
    "- in September-February (in LA, the fall and winter months), or \n",
    "- in March-August (in LA, the spring and summer)?  \n",
    "\n",
    "Using this information, when should the museum staff additional seasonal employees?"
   ]
  },
  {
   "cell_type": "code",
   "execution_count": null,
   "id": "d98de978",
   "metadata": {
    "execution": {
     "iopub.execute_input": "2021-08-04T13:45:50.856866Z",
     "iopub.status.busy": "2021-08-04T13:45:50.85654Z",
     "iopub.status.idle": "2021-08-04T13:45:50.863941Z",
     "shell.execute_reply": "2021-08-04T13:45:50.863108Z",
     "shell.execute_reply.started": "2021-08-04T13:45:50.856839Z"
    },
    "papermill": {
     "duration": null,
     "end_time": null,
     "exception": null,
     "start_time": null,
     "status": "pending"
    },
    "tags": []
   },
   "outputs": [],
   "source": [
    "step_4.b.hint()"
   ]
  },
  {
   "cell_type": "code",
   "execution_count": null,
   "id": "f6ef008b",
   "metadata": {
    "papermill": {
     "duration": null,
     "end_time": null,
     "exception": null,
     "start_time": null,
     "status": "pending"
    },
    "tags": []
   },
   "outputs": [],
   "source": []
  },
  {
   "cell_type": "code",
   "execution_count": null,
   "id": "e42c270a",
   "metadata": {
    "execution": {
     "iopub.execute_input": "2021-08-04T13:45:27.257826Z",
     "iopub.status.busy": "2021-08-04T13:45:27.257494Z",
     "iopub.status.idle": "2021-08-04T13:45:27.264447Z",
     "shell.execute_reply": "2021-08-04T13:45:27.263531Z",
     "shell.execute_reply.started": "2021-08-04T13:45:27.257797Z"
    },
    "papermill": {
     "duration": null,
     "end_time": null,
     "exception": null,
     "start_time": null,
     "status": "pending"
    },
    "tags": []
   },
   "outputs": [],
   "source": [
    "# Check your answer (Run this code cell to receive credit!)\n",
    "step_4.b.solution()"
   ]
  },
  {
   "cell_type": "markdown",
   "id": "e4b74d24",
   "metadata": {
    "papermill": {
     "duration": null,
     "end_time": null,
     "exception": null,
     "start_time": null,
     "status": "pending"
    },
    "tags": []
   },
   "source": [
    "# Keep going\n",
    "\n",
    "Move on to learn about **[bar charts and heatmaps](https://www.kaggle.com/alexisbcook/bar-charts-and-heatmaps)** with a new dataset!"
   ]
  },
  {
   "cell_type": "markdown",
   "id": "e5a32d03",
   "metadata": {
    "papermill": {
     "duration": null,
     "end_time": null,
     "exception": null,
     "start_time": null,
     "status": "pending"
    },
    "tags": []
   },
   "source": [
    "---\n",
    "\n",
    "\n",
    "\n",
    "\n",
    "*Have questions or comments? Visit the [Learn Discussion forum](https://www.kaggle.com/learn-forum/161291) to chat with other Learners.*"
   ]
  }
 ],
 "metadata": {
  "kernelspec": {
   "display_name": "Python 3",
   "language": "python",
   "name": "python3"
  },
  "language_info": {
   "codemirror_mode": {
    "name": "ipython",
    "version": 3
   },
   "file_extension": ".py",
   "mimetype": "text/x-python",
   "name": "python",
   "nbconvert_exporter": "python",
   "pygments_lexer": "ipython3",
   "version": "3.7.10"
  },
  "papermill": {
   "default_parameters": {},
   "duration": 10.351186,
   "end_time": "2021-08-08T10:11:45.087135",
   "environment_variables": {},
   "exception": true,
   "input_path": "__notebook__.ipynb",
   "output_path": "__notebook__.ipynb",
   "parameters": {},
   "start_time": "2021-08-08T10:11:34.735949",
   "version": "2.3.3"
  }
 },
 "nbformat": 4,
 "nbformat_minor": 5
}
